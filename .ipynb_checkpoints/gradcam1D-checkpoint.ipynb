{
 "cells": [
  {
   "cell_type": "code",
   "execution_count": 4,
   "id": "888a757f-872a-4646-8879-fd23b3081629",
   "metadata": {},
   "outputs": [],
   "source": [
    "import torch\n",
    "import torch.nn as nn\n",
    "import torch.nn.functional as F"
   ]
  },
  {
   "cell_type": "code",
   "execution_count": 11,
   "id": "1e751702-a6f6-4383-9625-50f6302f9ab2",
   "metadata": {},
   "outputs": [
    {
     "data": {
      "text/plain": [
       "torch.Size([7])"
      ]
     },
     "execution_count": 11,
     "metadata": {},
     "output_type": "execute_result"
    }
   ],
   "source": [
    "heatmap = gradcam.compute_gradcam(input, 2)\n",
    "heatmap.shape"
   ]
  },
  {
   "cell_type": "code",
   "execution_count": 24,
   "id": "4f4365da-0b0a-4163-8883-33d6c718fed9",
   "metadata": {},
   "outputs": [],
   "source": [
    "import torch\n",
    "import torch.nn as nn\n",
    "\n",
    "class ConvNet1D(nn.Module):\n",
    "    def __init__(self):\n",
    "        super(ConvNet1D, self).__init__()\n",
    "        # First convolutional layer\n",
    "        self.conv1 = nn.Conv1d(in_channels=3, out_channels=16, kernel_size=3, stride=1, padding=1)\n",
    "        # Second convolutional layer\n",
    "        self.conv2 = nn.Conv1d(in_channels=16, out_channels=32, kernel_size=3, stride=1, padding=1)\n",
    "        # Third convolutional layer\n",
    "        self.conv3 = nn.Conv1d(in_channels=32, out_channels=64, kernel_size=3, stride=1, padding=1)\n",
    "        # Max pooling layer\n",
    "        self.pool = nn.MaxPool1d(kernel_size=2, stride=2, padding=0)\n",
    "        # First fully connected layer\n",
    "        self.fc1 = nn.Linear(64 * 3, 128)\n",
    "        # Second fully connected layer\n",
    "        self.fc2 = nn.Linear(128, 10)\n",
    "\n",
    "    def forward(self, x):\n",
    "        # First conv layer\n",
    "        x = self.conv1(x)\n",
    "        x = torch.relu(x)\n",
    "        x = self.pool(x)\n",
    "\n",
    "        # Second conv layer\n",
    "        x = self.conv2(x)\n",
    "        x = torch.relu(x)\n",
    "        x = self.pool(x)\n",
    "\n",
    "        # Third conv layer\n",
    "        x = self.conv3(x)\n",
    "        x = torch.relu(x)\n",
    "        x = self.pool(x)\n",
    "\n",
    "        # Flatten the output for the fully connected layers\n",
    "        x = x.view(-1, 64 * 3)\n",
    "        x = self.fc1(x)\n",
    "        x = torch.relu(x)\n",
    "        x = self.fc2(x)\n",
    "\n",
    "        return x\n"
   ]
  },
  {
   "cell_type": "code",
   "execution_count": 11,
   "id": "9f704ed9-b901-4e74-a3d8-9a405245bee9",
   "metadata": {},
   "outputs": [],
   "source": [
    "class GradCAM1D:\n",
    "    def __init__(self, model, target_layer):\n",
    "        self.model = model\n",
    "        self.target_layer = target_layer\n",
    "        self.feature_map = None\n",
    "        self.gradients = None\n",
    "\n",
    "        # Set model in evaluation mode\n",
    "        self.model.eval()\n",
    "\n",
    "    def compute_gradcam(self, input_tensor, target_class):\n",
    "        # Register hooks\n",
    "        hook = self._register_hooks()\n",
    "\n",
    "        # Forward pass\n",
    "        output = self.model(input_tensor)\n",
    "\n",
    "        # Backward pass\n",
    "        self._backward_pass(output, target_class)\n",
    "\n",
    "        # Compute GradCAM\n",
    "        grad_cam = self._compute_gradcam()\n",
    "\n",
    "        # Remove hooks\n",
    "        self._remove_hooks(hook)\n",
    "\n",
    "        return grad_cam.squeeze()\n",
    "\n",
    "    def _register_hooks(self):\n",
    "        def hook_fn(module, input, output):\n",
    "            self.feature_map = output.detach()\n",
    "\n",
    "        def back_hook_fn(module, grad_input, grad_output):\n",
    "            self.gradients = grad_output[0]\n",
    "\n",
    "        target_layer = self._find_layer(self.target_layer)\n",
    "        hook = target_layer.register_forward_hook(hook_fn)\n",
    "        back_hook = target_layer.register_backward_hook(back_hook_fn)\n",
    "        return hook, back_hook\n",
    "\n",
    "    def _backward_pass(self, output, target_class):\n",
    "        self.model.zero_grad()\n",
    "        loss = output[0, target_class]\n",
    "        loss.backward()\n",
    "\n",
    "    def _compute_gradcam(self):\n",
    "        weights = torch.mean(self.gradients, -1)\n",
    "        grad_cam = self._linear_combination(self.feature_map, weights)\n",
    "        return grad_cam\n",
    "\n",
    "    def _remove_hooks(self, hooks):\n",
    "        for hook in hooks:\n",
    "            hook.remove()\n",
    "\n",
    "    def _find_layer(self, layer_name):\n",
    "        for name, module in self.model.named_modules():\n",
    "            if name == layer_name:\n",
    "                return module\n",
    "        raise RuntimeError(\"Target layer '{}' not found in the model.\".format(layer_name))\n",
    "\n",
    "    def _linear_combination(self, feature_map, weights):\n",
    "        result = torch.sum(feature_map.unsqueeze(-1) * weights.unsqueeze(2).unsqueeze(3), dim=1).squeeze(-1)\n",
    "        return result\n"
   ]
  },
  {
   "cell_type": "code",
   "execution_count": 18,
   "id": "24948e5f-c087-497c-a3a4-75c39f2897dd",
   "metadata": {},
   "outputs": [],
   "source": [
    "model = ConvNet1D()\n",
    "model.to(\"cuda:0\")\n",
    "gradcam = GradCAM1D(model, 'conv3')"
   ]
  },
  {
   "cell_type": "code",
   "execution_count": 26,
   "id": "7a06aa3f-64bb-42b8-a5f2-011a6ec294ac",
   "metadata": {},
   "outputs": [
    {
     "data": {
      "text/plain": [
       "tensor([ 0.0017,  0.0002, -0.0013,  0.0004, -0.0004, -0.0013,  0.0053],\n",
       "       device='cuda:0')"
      ]
     },
     "execution_count": 26,
     "metadata": {},
     "output_type": "execute_result"
    }
   ],
   "source": [
    "heatmap = gradcam.compute_gradcam(input_tensor.to(\"cuda:0\"), 1)\n",
    "heatmap"
   ]
  },
  {
   "cell_type": "code",
   "execution_count": null,
   "id": "ae4059a5-d315-4b5c-b4d7-b8ae411c5784",
   "metadata": {},
   "outputs": [],
   "source": []
  }
 ],
 "metadata": {
  "kernelspec": {
   "display_name": "rules2",
   "language": "python",
   "name": "rules2"
  },
  "language_info": {
   "codemirror_mode": {
    "name": "ipython",
    "version": 3
   },
   "file_extension": ".py",
   "mimetype": "text/x-python",
   "name": "python",
   "nbconvert_exporter": "python",
   "pygments_lexer": "ipython3",
   "version": "3.10.13"
  }
 },
 "nbformat": 4,
 "nbformat_minor": 5
}
